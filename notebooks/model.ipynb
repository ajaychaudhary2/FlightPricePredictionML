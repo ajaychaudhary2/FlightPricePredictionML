{
 "cells": [
  {
   "cell_type": "code",
   "execution_count": 1,
   "metadata": {},
   "outputs": [],
   "source": [
    "import pandas as pd\n"
   ]
  },
  {
   "cell_type": "code",
   "execution_count": 35,
   "metadata": {},
   "outputs": [],
   "source": [
    "df= pd.read_csv(r\"E:\\Data_Science _master\\ML\\Flight_prediction\\notebooks\\data\\flight_clean_data.csv\")\n"
   ]
  },
  {
   "cell_type": "code",
   "execution_count": 59,
   "metadata": {},
   "outputs": [
    {
     "data": {
      "text/html": [
       "<div>\n",
       "<style scoped>\n",
       "    .dataframe tbody tr th:only-of-type {\n",
       "        vertical-align: middle;\n",
       "    }\n",
       "\n",
       "    .dataframe tbody tr th {\n",
       "        vertical-align: top;\n",
       "    }\n",
       "\n",
       "    .dataframe thead th {\n",
       "        text-align: right;\n",
       "    }\n",
       "</style>\n",
       "<table border=\"1\" class=\"dataframe\">\n",
       "  <thead>\n",
       "    <tr style=\"text-align: right;\">\n",
       "      <th></th>\n",
       "      <th>Airline</th>\n",
       "      <th>Source</th>\n",
       "      <th>Destination</th>\n",
       "      <th>Total_Stops</th>\n",
       "      <th>Price</th>\n",
       "      <th>journey_day</th>\n",
       "      <th>journey_month</th>\n",
       "      <th>journey_year</th>\n",
       "      <th>Dep_Time_Sin</th>\n",
       "      <th>Dep_Time_Cos</th>\n",
       "      <th>Total_Duration_Minutes</th>\n",
       "      <th>Arrival_Time_Minutes</th>\n",
       "      <th>Arrival_Time_Sin</th>\n",
       "      <th>Arrival_Time_Cos</th>\n",
       "    </tr>\n",
       "  </thead>\n",
       "  <tbody>\n",
       "    <tr>\n",
       "      <th>0</th>\n",
       "      <td>1</td>\n",
       "      <td>1</td>\n",
       "      <td>1</td>\n",
       "      <td>0</td>\n",
       "      <td>3897</td>\n",
       "      <td>24</td>\n",
       "      <td>3</td>\n",
       "      <td>2019</td>\n",
       "      <td>-0.422618</td>\n",
       "      <td>0.906308</td>\n",
       "      <td>170</td>\n",
       "      <td>70</td>\n",
       "      <td>0.300706</td>\n",
       "      <td>0.953717</td>\n",
       "    </tr>\n",
       "    <tr>\n",
       "      <th>1</th>\n",
       "      <td>2</td>\n",
       "      <td>2</td>\n",
       "      <td>2</td>\n",
       "      <td>2</td>\n",
       "      <td>7662</td>\n",
       "      <td>1</td>\n",
       "      <td>5</td>\n",
       "      <td>2019</td>\n",
       "      <td>0.999048</td>\n",
       "      <td>0.043619</td>\n",
       "      <td>445</td>\n",
       "      <td>795</td>\n",
       "      <td>-0.321439</td>\n",
       "      <td>-0.946930</td>\n",
       "    </tr>\n",
       "    <tr>\n",
       "      <th>2</th>\n",
       "      <td>3</td>\n",
       "      <td>3</td>\n",
       "      <td>3</td>\n",
       "      <td>2</td>\n",
       "      <td>13882</td>\n",
       "      <td>9</td>\n",
       "      <td>6</td>\n",
       "      <td>2019</td>\n",
       "      <td>0.625923</td>\n",
       "      <td>-0.779884</td>\n",
       "      <td>1140</td>\n",
       "      <td>265</td>\n",
       "      <td>0.915311</td>\n",
       "      <td>0.402747</td>\n",
       "    </tr>\n",
       "    <tr>\n",
       "      <th>3</th>\n",
       "      <td>1</td>\n",
       "      <td>2</td>\n",
       "      <td>2</td>\n",
       "      <td>1</td>\n",
       "      <td>6218</td>\n",
       "      <td>12</td>\n",
       "      <td>5</td>\n",
       "      <td>2019</td>\n",
       "      <td>-0.999762</td>\n",
       "      <td>0.021815</td>\n",
       "      <td>325</td>\n",
       "      <td>1410</td>\n",
       "      <td>-0.130526</td>\n",
       "      <td>0.991445</td>\n",
       "    </tr>\n",
       "    <tr>\n",
       "      <th>4</th>\n",
       "      <td>1</td>\n",
       "      <td>1</td>\n",
       "      <td>1</td>\n",
       "      <td>1</td>\n",
       "      <td>13302</td>\n",
       "      <td>1</td>\n",
       "      <td>3</td>\n",
       "      <td>2019</td>\n",
       "      <td>-0.953717</td>\n",
       "      <td>-0.300706</td>\n",
       "      <td>285</td>\n",
       "      <td>1295</td>\n",
       "      <td>-0.591310</td>\n",
       "      <td>0.806445</td>\n",
       "    </tr>\n",
       "  </tbody>\n",
       "</table>\n",
       "</div>"
      ],
      "text/plain": [
       "   Airline  Source  Destination  Total_Stops  Price  journey_day  \\\n",
       "0        1       1            1            0   3897           24   \n",
       "1        2       2            2            2   7662            1   \n",
       "2        3       3            3            2  13882            9   \n",
       "3        1       2            2            1   6218           12   \n",
       "4        1       1            1            1  13302            1   \n",
       "\n",
       "   journey_month  journey_year  Dep_Time_Sin  Dep_Time_Cos  \\\n",
       "0              3          2019     -0.422618      0.906308   \n",
       "1              5          2019      0.999048      0.043619   \n",
       "2              6          2019      0.625923     -0.779884   \n",
       "3              5          2019     -0.999762      0.021815   \n",
       "4              3          2019     -0.953717     -0.300706   \n",
       "\n",
       "   Total_Duration_Minutes  Arrival_Time_Minutes  Arrival_Time_Sin  \\\n",
       "0                     170                    70          0.300706   \n",
       "1                     445                   795         -0.321439   \n",
       "2                    1140                   265          0.915311   \n",
       "3                     325                  1410         -0.130526   \n",
       "4                     285                  1295         -0.591310   \n",
       "\n",
       "   Arrival_Time_Cos  \n",
       "0          0.953717  \n",
       "1         -0.946930  \n",
       "2          0.402747  \n",
       "3          0.991445  \n",
       "4          0.806445  "
      ]
     },
     "execution_count": 59,
     "metadata": {},
     "output_type": "execute_result"
    }
   ],
   "source": [
    "df.head()"
   ]
  },
  {
   "cell_type": "code",
   "execution_count": 36,
   "metadata": {},
   "outputs": [],
   "source": [
    "X = df.drop(labels=[\"Price\"],axis=1)"
   ]
  },
  {
   "cell_type": "code",
   "execution_count": 37,
   "metadata": {},
   "outputs": [
    {
     "data": {
      "text/html": [
       "<div>\n",
       "<style scoped>\n",
       "    .dataframe tbody tr th:only-of-type {\n",
       "        vertical-align: middle;\n",
       "    }\n",
       "\n",
       "    .dataframe tbody tr th {\n",
       "        vertical-align: top;\n",
       "    }\n",
       "\n",
       "    .dataframe thead th {\n",
       "        text-align: right;\n",
       "    }\n",
       "</style>\n",
       "<table border=\"1\" class=\"dataframe\">\n",
       "  <thead>\n",
       "    <tr style=\"text-align: right;\">\n",
       "      <th></th>\n",
       "      <th>Airline</th>\n",
       "      <th>Source</th>\n",
       "      <th>Destination</th>\n",
       "      <th>Total_Stops</th>\n",
       "      <th>journey_day</th>\n",
       "      <th>journey_month</th>\n",
       "      <th>journey_year</th>\n",
       "      <th>Dep_Time_Sin</th>\n",
       "      <th>Dep_Time_Cos</th>\n",
       "      <th>Total_Duration_Minutes</th>\n",
       "      <th>Arrival_Time_Minutes</th>\n",
       "      <th>Arrival_Time_Sin</th>\n",
       "      <th>Arrival_Time_Cos</th>\n",
       "    </tr>\n",
       "  </thead>\n",
       "  <tbody>\n",
       "    <tr>\n",
       "      <th>0</th>\n",
       "      <td>1</td>\n",
       "      <td>1</td>\n",
       "      <td>1</td>\n",
       "      <td>0</td>\n",
       "      <td>24</td>\n",
       "      <td>3</td>\n",
       "      <td>2019</td>\n",
       "      <td>-0.422618</td>\n",
       "      <td>0.906308</td>\n",
       "      <td>170</td>\n",
       "      <td>70</td>\n",
       "      <td>0.300706</td>\n",
       "      <td>0.953717</td>\n",
       "    </tr>\n",
       "    <tr>\n",
       "      <th>1</th>\n",
       "      <td>2</td>\n",
       "      <td>2</td>\n",
       "      <td>2</td>\n",
       "      <td>2</td>\n",
       "      <td>1</td>\n",
       "      <td>5</td>\n",
       "      <td>2019</td>\n",
       "      <td>0.999048</td>\n",
       "      <td>0.043619</td>\n",
       "      <td>445</td>\n",
       "      <td>795</td>\n",
       "      <td>-0.321439</td>\n",
       "      <td>-0.946930</td>\n",
       "    </tr>\n",
       "    <tr>\n",
       "      <th>2</th>\n",
       "      <td>3</td>\n",
       "      <td>3</td>\n",
       "      <td>3</td>\n",
       "      <td>2</td>\n",
       "      <td>9</td>\n",
       "      <td>6</td>\n",
       "      <td>2019</td>\n",
       "      <td>0.625923</td>\n",
       "      <td>-0.779884</td>\n",
       "      <td>1140</td>\n",
       "      <td>265</td>\n",
       "      <td>0.915311</td>\n",
       "      <td>0.402747</td>\n",
       "    </tr>\n",
       "    <tr>\n",
       "      <th>3</th>\n",
       "      <td>1</td>\n",
       "      <td>2</td>\n",
       "      <td>2</td>\n",
       "      <td>1</td>\n",
       "      <td>12</td>\n",
       "      <td>5</td>\n",
       "      <td>2019</td>\n",
       "      <td>-0.999762</td>\n",
       "      <td>0.021815</td>\n",
       "      <td>325</td>\n",
       "      <td>1410</td>\n",
       "      <td>-0.130526</td>\n",
       "      <td>0.991445</td>\n",
       "    </tr>\n",
       "    <tr>\n",
       "      <th>4</th>\n",
       "      <td>1</td>\n",
       "      <td>1</td>\n",
       "      <td>1</td>\n",
       "      <td>1</td>\n",
       "      <td>1</td>\n",
       "      <td>3</td>\n",
       "      <td>2019</td>\n",
       "      <td>-0.953717</td>\n",
       "      <td>-0.300706</td>\n",
       "      <td>285</td>\n",
       "      <td>1295</td>\n",
       "      <td>-0.591310</td>\n",
       "      <td>0.806445</td>\n",
       "    </tr>\n",
       "  </tbody>\n",
       "</table>\n",
       "</div>"
      ],
      "text/plain": [
       "   Airline  Source  Destination  Total_Stops  journey_day  journey_month  \\\n",
       "0        1       1            1            0           24              3   \n",
       "1        2       2            2            2            1              5   \n",
       "2        3       3            3            2            9              6   \n",
       "3        1       2            2            1           12              5   \n",
       "4        1       1            1            1            1              3   \n",
       "\n",
       "   journey_year  Dep_Time_Sin  Dep_Time_Cos  Total_Duration_Minutes  \\\n",
       "0          2019     -0.422618      0.906308                     170   \n",
       "1          2019      0.999048      0.043619                     445   \n",
       "2          2019      0.625923     -0.779884                    1140   \n",
       "3          2019     -0.999762      0.021815                     325   \n",
       "4          2019     -0.953717     -0.300706                     285   \n",
       "\n",
       "   Arrival_Time_Minutes  Arrival_Time_Sin  Arrival_Time_Cos  \n",
       "0                    70          0.300706          0.953717  \n",
       "1                   795         -0.321439         -0.946930  \n",
       "2                   265          0.915311          0.402747  \n",
       "3                  1410         -0.130526          0.991445  \n",
       "4                  1295         -0.591310          0.806445  "
      ]
     },
     "execution_count": 37,
     "metadata": {},
     "output_type": "execute_result"
    }
   ],
   "source": [
    "X.head()"
   ]
  },
  {
   "cell_type": "code",
   "execution_count": 38,
   "metadata": {},
   "outputs": [],
   "source": [
    "y=df[[\"Price\"]]"
   ]
  },
  {
   "cell_type": "code",
   "execution_count": 39,
   "metadata": {},
   "outputs": [
    {
     "data": {
      "text/plain": [
       "(10462, 13)"
      ]
     },
     "execution_count": 39,
     "metadata": {},
     "output_type": "execute_result"
    }
   ],
   "source": [
    "X.shape"
   ]
  },
  {
   "cell_type": "code",
   "execution_count": 40,
   "metadata": {},
   "outputs": [
    {
     "data": {
      "text/plain": [
       "(10462, 1)"
      ]
     },
     "execution_count": 40,
     "metadata": {},
     "output_type": "execute_result"
    }
   ],
   "source": [
    "y.shape"
   ]
  },
  {
   "cell_type": "code",
   "execution_count": 41,
   "metadata": {},
   "outputs": [
    {
     "data": {
      "text/html": [
       "<div>\n",
       "<style scoped>\n",
       "    .dataframe tbody tr th:only-of-type {\n",
       "        vertical-align: middle;\n",
       "    }\n",
       "\n",
       "    .dataframe tbody tr th {\n",
       "        vertical-align: top;\n",
       "    }\n",
       "\n",
       "    .dataframe thead th {\n",
       "        text-align: right;\n",
       "    }\n",
       "</style>\n",
       "<table border=\"1\" class=\"dataframe\">\n",
       "  <thead>\n",
       "    <tr style=\"text-align: right;\">\n",
       "      <th></th>\n",
       "      <th>Price</th>\n",
       "    </tr>\n",
       "  </thead>\n",
       "  <tbody>\n",
       "    <tr>\n",
       "      <th>0</th>\n",
       "      <td>3897</td>\n",
       "    </tr>\n",
       "    <tr>\n",
       "      <th>1</th>\n",
       "      <td>7662</td>\n",
       "    </tr>\n",
       "    <tr>\n",
       "      <th>2</th>\n",
       "      <td>13882</td>\n",
       "    </tr>\n",
       "    <tr>\n",
       "      <th>3</th>\n",
       "      <td>6218</td>\n",
       "    </tr>\n",
       "    <tr>\n",
       "      <th>4</th>\n",
       "      <td>13302</td>\n",
       "    </tr>\n",
       "  </tbody>\n",
       "</table>\n",
       "</div>"
      ],
      "text/plain": [
       "   Price\n",
       "0   3897\n",
       "1   7662\n",
       "2  13882\n",
       "3   6218\n",
       "4  13302"
      ]
     },
     "execution_count": 41,
     "metadata": {},
     "output_type": "execute_result"
    }
   ],
   "source": [
    "y.head()"
   ]
  },
  {
   "cell_type": "code",
   "execution_count": 42,
   "metadata": {},
   "outputs": [
    {
     "data": {
      "text/plain": [
       "8592"
      ]
     },
     "execution_count": 42,
     "metadata": {},
     "output_type": "execute_result"
    }
   ],
   "source": [
    "y.duplicated().sum()"
   ]
  },
  {
   "cell_type": "code",
   "execution_count": 43,
   "metadata": {},
   "outputs": [],
   "source": [
    "from sklearn.model_selection import train_test_split\n",
    "\n",
    "X_train,X_test,y_train,y_test=train_test_split(X,y,test_size=0.30,random_state=30)"
   ]
  },
  {
   "cell_type": "code",
   "execution_count": 45,
   "metadata": {},
   "outputs": [
    {
     "data": {
      "text/html": [
       "<div>\n",
       "<style scoped>\n",
       "    .dataframe tbody tr th:only-of-type {\n",
       "        vertical-align: middle;\n",
       "    }\n",
       "\n",
       "    .dataframe tbody tr th {\n",
       "        vertical-align: top;\n",
       "    }\n",
       "\n",
       "    .dataframe thead th {\n",
       "        text-align: right;\n",
       "    }\n",
       "</style>\n",
       "<table border=\"1\" class=\"dataframe\">\n",
       "  <thead>\n",
       "    <tr style=\"text-align: right;\">\n",
       "      <th></th>\n",
       "      <th>Airline</th>\n",
       "      <th>Source</th>\n",
       "      <th>Destination</th>\n",
       "      <th>Total_Stops</th>\n",
       "      <th>journey_day</th>\n",
       "      <th>journey_month</th>\n",
       "      <th>journey_year</th>\n",
       "      <th>Dep_Time_Sin</th>\n",
       "      <th>Dep_Time_Cos</th>\n",
       "      <th>Total_Duration_Minutes</th>\n",
       "      <th>Arrival_Time_Minutes</th>\n",
       "      <th>Arrival_Time_Sin</th>\n",
       "      <th>Arrival_Time_Cos</th>\n",
       "    </tr>\n",
       "  </thead>\n",
       "  <tbody>\n",
       "    <tr>\n",
       "      <th>7323</th>\n",
       "      <td>1</td>\n",
       "      <td>3</td>\n",
       "      <td>3</td>\n",
       "      <td>1</td>\n",
       "      <td>27</td>\n",
       "      <td>5</td>\n",
       "      <td>2019</td>\n",
       "      <td>0.923880</td>\n",
       "      <td>-0.382683</td>\n",
       "      <td>810</td>\n",
       "      <td>1260</td>\n",
       "      <td>-0.707107</td>\n",
       "      <td>0.707107</td>\n",
       "    </tr>\n",
       "    <tr>\n",
       "      <th>882</th>\n",
       "      <td>3</td>\n",
       "      <td>3</td>\n",
       "      <td>3</td>\n",
       "      <td>1</td>\n",
       "      <td>27</td>\n",
       "      <td>5</td>\n",
       "      <td>2019</td>\n",
       "      <td>-0.997859</td>\n",
       "      <td>0.065403</td>\n",
       "      <td>610</td>\n",
       "      <td>265</td>\n",
       "      <td>0.915311</td>\n",
       "      <td>0.402747</td>\n",
       "    </tr>\n",
       "    <tr>\n",
       "      <th>6043</th>\n",
       "      <td>3</td>\n",
       "      <td>3</td>\n",
       "      <td>3</td>\n",
       "      <td>2</td>\n",
       "      <td>18</td>\n",
       "      <td>5</td>\n",
       "      <td>2019</td>\n",
       "      <td>0.991445</td>\n",
       "      <td>0.130526</td>\n",
       "      <td>810</td>\n",
       "      <td>1140</td>\n",
       "      <td>-0.965926</td>\n",
       "      <td>0.258819</td>\n",
       "    </tr>\n",
       "    <tr>\n",
       "      <th>8807</th>\n",
       "      <td>5</td>\n",
       "      <td>3</td>\n",
       "      <td>3</td>\n",
       "      <td>1</td>\n",
       "      <td>15</td>\n",
       "      <td>6</td>\n",
       "      <td>2019</td>\n",
       "      <td>-0.258819</td>\n",
       "      <td>-0.965926</td>\n",
       "      <td>750</td>\n",
       "      <td>90</td>\n",
       "      <td>0.382683</td>\n",
       "      <td>0.923880</td>\n",
       "    </tr>\n",
       "    <tr>\n",
       "      <th>7972</th>\n",
       "      <td>2</td>\n",
       "      <td>2</td>\n",
       "      <td>2</td>\n",
       "      <td>1</td>\n",
       "      <td>6</td>\n",
       "      <td>5</td>\n",
       "      <td>2019</td>\n",
       "      <td>-0.793353</td>\n",
       "      <td>0.608761</td>\n",
       "      <td>1435</td>\n",
       "      <td>1225</td>\n",
       "      <td>-0.806445</td>\n",
       "      <td>0.591310</td>\n",
       "    </tr>\n",
       "  </tbody>\n",
       "</table>\n",
       "</div>"
      ],
      "text/plain": [
       "      Airline  Source  Destination  Total_Stops  journey_day  journey_month  \\\n",
       "7323        1       3            3            1           27              5   \n",
       "882         3       3            3            1           27              5   \n",
       "6043        3       3            3            2           18              5   \n",
       "8807        5       3            3            1           15              6   \n",
       "7972        2       2            2            1            6              5   \n",
       "\n",
       "      journey_year  Dep_Time_Sin  Dep_Time_Cos  Total_Duration_Minutes  \\\n",
       "7323          2019      0.923880     -0.382683                     810   \n",
       "882           2019     -0.997859      0.065403                     610   \n",
       "6043          2019      0.991445      0.130526                     810   \n",
       "8807          2019     -0.258819     -0.965926                     750   \n",
       "7972          2019     -0.793353      0.608761                    1435   \n",
       "\n",
       "      Arrival_Time_Minutes  Arrival_Time_Sin  Arrival_Time_Cos  \n",
       "7323                  1260         -0.707107          0.707107  \n",
       "882                    265          0.915311          0.402747  \n",
       "6043                  1140         -0.965926          0.258819  \n",
       "8807                    90          0.382683          0.923880  \n",
       "7972                  1225         -0.806445          0.591310  "
      ]
     },
     "execution_count": 45,
     "metadata": {},
     "output_type": "execute_result"
    }
   ],
   "source": [
    "X_train.head()"
   ]
  },
  {
   "cell_type": "code",
   "execution_count": 46,
   "metadata": {},
   "outputs": [
    {
     "data": {
      "text/plain": [
       "(7323, 13)"
      ]
     },
     "execution_count": 46,
     "metadata": {},
     "output_type": "execute_result"
    }
   ],
   "source": [
    "X_train.shape"
   ]
  },
  {
   "cell_type": "code",
   "execution_count": 47,
   "metadata": {},
   "outputs": [
    {
     "data": {
      "text/plain": [
       "(3139, 13)"
      ]
     },
     "execution_count": 47,
     "metadata": {},
     "output_type": "execute_result"
    }
   ],
   "source": [
    "X_test.shape"
   ]
  },
  {
   "cell_type": "code",
   "execution_count": 48,
   "metadata": {},
   "outputs": [
    {
     "data": {
      "text/html": [
       "<div>\n",
       "<style scoped>\n",
       "    .dataframe tbody tr th:only-of-type {\n",
       "        vertical-align: middle;\n",
       "    }\n",
       "\n",
       "    .dataframe tbody tr th {\n",
       "        vertical-align: top;\n",
       "    }\n",
       "\n",
       "    .dataframe thead th {\n",
       "        text-align: right;\n",
       "    }\n",
       "</style>\n",
       "<table border=\"1\" class=\"dataframe\">\n",
       "  <thead>\n",
       "    <tr style=\"text-align: right;\">\n",
       "      <th></th>\n",
       "      <th>Price</th>\n",
       "    </tr>\n",
       "  </thead>\n",
       "  <tbody>\n",
       "    <tr>\n",
       "      <th>7323</th>\n",
       "      <td>6526</td>\n",
       "    </tr>\n",
       "    <tr>\n",
       "      <th>882</th>\n",
       "      <td>12898</td>\n",
       "    </tr>\n",
       "    <tr>\n",
       "      <th>6043</th>\n",
       "      <td>15129</td>\n",
       "    </tr>\n",
       "    <tr>\n",
       "      <th>8807</th>\n",
       "      <td>13377</td>\n",
       "    </tr>\n",
       "    <tr>\n",
       "      <th>7972</th>\n",
       "      <td>10203</td>\n",
       "    </tr>\n",
       "  </tbody>\n",
       "</table>\n",
       "</div>"
      ],
      "text/plain": [
       "      Price\n",
       "7323   6526\n",
       "882   12898\n",
       "6043  15129\n",
       "8807  13377\n",
       "7972  10203"
      ]
     },
     "execution_count": 48,
     "metadata": {},
     "output_type": "execute_result"
    }
   ],
   "source": [
    "y_train.head()"
   ]
  },
  {
   "cell_type": "code",
   "execution_count": 49,
   "metadata": {},
   "outputs": [
    {
     "data": {
      "text/plain": [
       "(7323, 1)"
      ]
     },
     "execution_count": 49,
     "metadata": {},
     "output_type": "execute_result"
    }
   ],
   "source": [
    "y_train.shape"
   ]
  },
  {
   "cell_type": "code",
   "execution_count": 64,
   "metadata": {},
   "outputs": [],
   "source": [
    "from sklearn.linear_model import LinearRegression,Lasso,Ridge,ElasticNet\n",
    "from sklearn.metrics import r2_score,mean_absolute_error,mean_squared_error\n",
    "from sklearn.ensemble import RandomForestRegressor"
   ]
  },
  {
   "cell_type": "code",
   "execution_count": 65,
   "metadata": {},
   "outputs": [],
   "source": [
    "## train multiple models\n",
    "\n",
    "models ={\n",
    "    \"LinearRegression\":LinearRegression(),\n",
    "    \"Ridge\":Ridge(),\n",
    "    \"Lasso\":Lasso(),\n",
    "    \"ElasticNet\":ElasticNet(),\n",
    "    \"RandomForestRegressor\":RandomForestRegressor()\n",
    "    \n",
    "}\n",
    "trained_model_list=[]\n",
    "model_list=[]\n",
    "r2_list=[]\n",
    "\n",
    "import  numpy as np\n",
    "\n",
    "def evaluate_model(true,predicted):\n",
    "    \n",
    "    mse=mean_squared_error(true,predicted)\n",
    "    mae=mean_absolute_error(true,predicted)\n",
    "    rmse=np.sqrt(mean_squared_error(true,predicted))\n",
    "    r2_value=r2_score(true ,predicted)\n",
    "    \n",
    "    return mae, rmse, r2_value\n",
    "\n",
    "for i in range(len(list(models))):\n",
    "    \n",
    "    model = list(models.values())[i]\n",
    "    model.fit(X_train,y_train)\n",
    "    \n",
    "    \n",
    "    #make prediction \n",
    "    ypred = model.predict(X_test)\n",
    "    \n",
    "    \n",
    "    #this is  a validation or   checking the values\n",
    "    \n",
    "    mae,rmse,r2_value= evaluate_model(y_test,ypred)\n",
    "    print(list(models.keys())[i])  \n",
    "    model_list.append(list(models.keys())[i])\n",
    "  \n",
    "    \n",
    "    print('Model Training Performance')\n",
    "    print(\"RMSE:\",rmse)\n",
    "    print(\"MAE:\",mae)\n",
    "    print(\"R2 score\", r2_value*100)\n",
    "    \n",
    "    print('='*35)\n",
    "\n",
    "    print('\\n')"
   ]
  },
  {
   "cell_type": "code",
   "execution_count": 66,
   "metadata": {},
   "outputs": [],
   "source": [
    "trained_model_list=[]\n",
    "model_list=[]\n",
    "r2_list=[]"
   ]
  },
  {
   "cell_type": "code",
   "execution_count": 67,
   "metadata": {},
   "outputs": [
    {
     "data": {
      "text/plain": [
       "['LinearRegression', 'Ridge', 'Lasso', 'ElasticNet', 'RandomForestRegressor']"
      ]
     },
     "execution_count": 67,
     "metadata": {},
     "output_type": "execute_result"
    }
   ],
   "source": [
    "list(models)"
   ]
  },
  {
   "cell_type": "code",
   "execution_count": 68,
   "metadata": {},
   "outputs": [
    {
     "name": "stdout",
     "output_type": "stream",
     "text": [
      "LinearRegression()\n",
      "Ridge()\n",
      "Lasso()\n",
      "ElasticNet()\n",
      "RandomForestRegressor()\n"
     ]
    }
   ],
   "source": [
    "for i in range(len(list(models))):\n",
    "    model=list(models.values())[i]\n",
    "    print(model)"
   ]
  },
  {
   "cell_type": "code",
   "execution_count": 69,
   "metadata": {},
   "outputs": [],
   "source": [
    "import  numpy as np\n",
    "\n",
    "def evaluate_model(true,predicted):\n",
    "    \n",
    "    mse=mean_squared_error(true,predicted)\n",
    "    mae=mean_absolute_error(true,predicted)\n",
    "    rmse=np.sqrt(mean_squared_error(true,predicted))\n",
    "    r2_value=r2_score(true ,predicted)\n",
    "    \n",
    "    return mae, rmse, r2_value"
   ]
  },
  {
   "cell_type": "code",
   "execution_count": 70,
   "metadata": {},
   "outputs": [
    {
     "name": "stdout",
     "output_type": "stream",
     "text": [
      "LinearRegression\n",
      "Model Training Performance\n",
      "RMSE: 3565.472697404947\n",
      "MAE: 2434.1607283739545\n",
      "R2 score 42.40383459106316\n",
      "===================================\n",
      "\n",
      "\n",
      "Ridge\n",
      "Model Training Performance\n",
      "RMSE: 3565.4815310642357\n",
      "MAE: 2434.168697973805\n",
      "R2 score 42.40354919522649\n",
      "===================================\n",
      "\n",
      "\n",
      "Lasso\n",
      "Model Training Performance\n",
      "RMSE: 3565.3862726819334\n",
      "MAE: 2433.951000762576\n",
      "R2 score 42.40662674387773\n",
      "===================================\n",
      "\n",
      "\n",
      "ElasticNet\n",
      "Model Training Performance\n",
      "RMSE: 3733.226688772765\n",
      "MAE: 2572.3544338479483\n",
      "R2 score 36.8565853601269\n",
      "===================================\n",
      "\n",
      "\n"
     ]
    },
    {
     "name": "stderr",
     "output_type": "stream",
     "text": [
      "e:\\Data_Science _master\\ML\\Flight_prediction\\env\\lib\\site-packages\\sklearn\\base.py:1152: DataConversionWarning: A column-vector y was passed when a 1d array was expected. Please change the shape of y to (n_samples,), for example using ravel().\n",
      "  return fit_method(estimator, *args, **kwargs)\n"
     ]
    },
    {
     "name": "stdout",
     "output_type": "stream",
     "text": [
      "RandomForestRegressor\n",
      "Model Training Performance\n",
      "RMSE: 2075.264997401637\n",
      "MAE: 1194.341749354005\n",
      "R2 score 80.48778997146671\n",
      "===================================\n",
      "\n",
      "\n"
     ]
    }
   ],
   "source": [
    "for i in range(len(list(models))):\n",
    "    \n",
    "    model = list(models.values())[i]\n",
    "    model.fit(X_train,y_train)\n",
    "    \n",
    "    \n",
    "    #make prediction \n",
    "    ypred = model.predict(X_test)\n",
    "    \n",
    "    \n",
    "    #this is  a validation or   checking the values\n",
    "    \n",
    "    mae,rmse,r2_value= evaluate_model(y_test,ypred)\n",
    "    print(list(models.keys())[i])  \n",
    "    model_list.append(list(models.keys())[i])\n",
    "  \n",
    "    \n",
    "    print('Model Training Performance')\n",
    "    print(\"RMSE:\",rmse)\n",
    "    print(\"MAE:\",mae)\n",
    "    print(\"R2 score\", r2_value*100)\n",
    "    \n",
    "    print('='*35)\n",
    "\n",
    "    print('\\n')\n",
    "    "
   ]
  }
 ],
 "metadata": {
  "kernelspec": {
   "display_name": "Python 3",
   "language": "python",
   "name": "python3"
  },
  "language_info": {
   "codemirror_mode": {
    "name": "ipython",
    "version": 3
   },
   "file_extension": ".py",
   "mimetype": "text/x-python",
   "name": "python",
   "nbconvert_exporter": "python",
   "pygments_lexer": "ipython3",
   "version": "3.8.20"
  }
 },
 "nbformat": 4,
 "nbformat_minor": 2
}
